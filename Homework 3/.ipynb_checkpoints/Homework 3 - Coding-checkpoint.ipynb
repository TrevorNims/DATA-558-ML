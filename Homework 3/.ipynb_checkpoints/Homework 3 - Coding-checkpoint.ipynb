{
 "cells": [
  {
   "cell_type": "markdown",
   "id": "touched-tractor",
   "metadata": {},
   "source": [
    "## (a)\n",
    "\n",
    "Under the assumption that $d = 1$ and $n = 1$, the sample is then of size 1 and boils down to just $(x,y)$.  The function $F$ writes simply as:\n",
    "\n",
    "\n",
    "$$F(\\beta) = \\text{log}(1+\\text{exp}(-yx\\beta))+\\lambda\\beta^2$$\n",
    "\n",
    "\n",
    "The gradient $\\nabla F$ of $F$ is then given by:\n",
    "\n",
    "$$\\nabla F(\\beta) = \\frac{-yx\\text{exp}(-yx\\beta)}{1+\\text{exp}(-yx\\beta)}+2\\lambda\\beta$$"
   ]
  },
  {
   "cell_type": "markdown",
   "id": "quality-exclusion",
   "metadata": {},
   "source": [
    "## (b)\n",
    "\n",
    "Now, under the assumption that $d > 1$ and $n > 1$ the gradient $\\nabla F$ of $F$ is given by:\n",
    "\n",
    "$$\\nabla F(\\beta) = -\\frac{1}{n}XQY + 2\\lambda\\beta$$\n",
    "\n",
    "With $X$ and $Y$ corresponding to the $d x n$ and $1 x n$ predictor and response matrices respectively, and $Q$ given by:\n",
    "\n",
    "$$Q = \\text{Diag}([1-p_1,...,1-p_n])$$\n",
    "\n",
    "With:\n",
    "\n",
    "$$1-p_i = \\frac{\\text{exp}(-y_ix_i^T\\beta)}{1+\\text{exp}(-y_ix_i^T\\beta)}$$"
   ]
  },
  {
   "cell_type": "markdown",
   "id": "above-stuff",
   "metadata": {},
   "source": [
    "## (c)"
   ]
  },
  {
   "cell_type": "code",
   "execution_count": 261,
   "id": "accessory-thought",
   "metadata": {},
   "outputs": [],
   "source": [
    "import pandas as pd\n",
    "import numpy as np\n",
    "import matplotlib.pyplot as plt\n",
    "\n",
    "from sklearn.model_selection import train_test_split\n",
    "from sklearn import preprocessing\n",
    "from sklearn.linear_model import LogisticRegression\n",
    "from sklearn.linear_model import LogisticRegressionCV"
   ]
  },
  {
   "cell_type": "code",
   "execution_count": 262,
   "id": "independent-shopping",
   "metadata": {},
   "outputs": [
    {
     "data": {
      "text/html": [
       "<div>\n",
       "<style scoped>\n",
       "    .dataframe tbody tr th:only-of-type {\n",
       "        vertical-align: middle;\n",
       "    }\n",
       "\n",
       "    .dataframe tbody tr th {\n",
       "        vertical-align: top;\n",
       "    }\n",
       "\n",
       "    .dataframe thead th {\n",
       "        text-align: right;\n",
       "    }\n",
       "</style>\n",
       "<table border=\"1\" class=\"dataframe\">\n",
       "  <thead>\n",
       "    <tr style=\"text-align: right;\">\n",
       "      <th></th>\n",
       "      <th>Year</th>\n",
       "      <th>Lag1</th>\n",
       "      <th>Lag2</th>\n",
       "      <th>Lag3</th>\n",
       "      <th>Lag4</th>\n",
       "      <th>Lag5</th>\n",
       "      <th>Volume</th>\n",
       "      <th>Today</th>\n",
       "      <th>Direction</th>\n",
       "    </tr>\n",
       "  </thead>\n",
       "  <tbody>\n",
       "    <tr>\n",
       "      <th>1</th>\n",
       "      <td>2001</td>\n",
       "      <td>0.381</td>\n",
       "      <td>-0.192</td>\n",
       "      <td>-2.624</td>\n",
       "      <td>-1.055</td>\n",
       "      <td>5.010</td>\n",
       "      <td>1.1913</td>\n",
       "      <td>0.959</td>\n",
       "      <td>Up</td>\n",
       "    </tr>\n",
       "    <tr>\n",
       "      <th>2</th>\n",
       "      <td>2001</td>\n",
       "      <td>0.959</td>\n",
       "      <td>0.381</td>\n",
       "      <td>-0.192</td>\n",
       "      <td>-2.624</td>\n",
       "      <td>-1.055</td>\n",
       "      <td>1.2965</td>\n",
       "      <td>1.032</td>\n",
       "      <td>Up</td>\n",
       "    </tr>\n",
       "    <tr>\n",
       "      <th>3</th>\n",
       "      <td>2001</td>\n",
       "      <td>1.032</td>\n",
       "      <td>0.959</td>\n",
       "      <td>0.381</td>\n",
       "      <td>-0.192</td>\n",
       "      <td>-2.624</td>\n",
       "      <td>1.4112</td>\n",
       "      <td>-0.623</td>\n",
       "      <td>Down</td>\n",
       "    </tr>\n",
       "    <tr>\n",
       "      <th>4</th>\n",
       "      <td>2001</td>\n",
       "      <td>-0.623</td>\n",
       "      <td>1.032</td>\n",
       "      <td>0.959</td>\n",
       "      <td>0.381</td>\n",
       "      <td>-0.192</td>\n",
       "      <td>1.2760</td>\n",
       "      <td>0.614</td>\n",
       "      <td>Up</td>\n",
       "    </tr>\n",
       "    <tr>\n",
       "      <th>5</th>\n",
       "      <td>2001</td>\n",
       "      <td>0.614</td>\n",
       "      <td>-0.623</td>\n",
       "      <td>1.032</td>\n",
       "      <td>0.959</td>\n",
       "      <td>0.381</td>\n",
       "      <td>1.2057</td>\n",
       "      <td>0.213</td>\n",
       "      <td>Up</td>\n",
       "    </tr>\n",
       "  </tbody>\n",
       "</table>\n",
       "</div>"
      ],
      "text/plain": [
       "   Year   Lag1   Lag2   Lag3   Lag4   Lag5  Volume  Today Direction\n",
       "1  2001  0.381 -0.192 -2.624 -1.055  5.010  1.1913  0.959        Up\n",
       "2  2001  0.959  0.381 -0.192 -2.624 -1.055  1.2965  1.032        Up\n",
       "3  2001  1.032  0.959  0.381 -0.192 -2.624  1.4112 -0.623      Down\n",
       "4  2001 -0.623  1.032  0.959  0.381 -0.192  1.2760  0.614        Up\n",
       "5  2001  0.614 -0.623  1.032  0.959  0.381  1.2057  0.213        Up"
      ]
     },
     "execution_count": 262,
     "metadata": {},
     "output_type": "execute_result"
    }
   ],
   "source": [
    "# Read in data, examine head\n",
    "\n",
    "file = 'https://raw.githubusercontent.com/JWarmenhoven/ISLR-python/master/Notebooks/Data/Smarket.csv'\n",
    "smarket = pd.read_csv(file, sep=',', header=0, index_col=0)\n",
    "\n",
    "smarket.head()"
   ]
  },
  {
   "cell_type": "markdown",
   "id": "incorrect-flower",
   "metadata": {},
   "source": [
    "## (d)"
   ]
  },
  {
   "cell_type": "code",
   "execution_count": 263,
   "id": "coral-novelty",
   "metadata": {},
   "outputs": [],
   "source": [
    "# Convert response variable from categorical to binary numerical, select features \n",
    "\n",
    "y = np.array([1 if x == 'Up' else -1 for x in smarket['Direction']])\n",
    "X = np.array(smarket[['Lag1', 'Lag2', 'Volume']])"
   ]
  },
  {
   "cell_type": "code",
   "execution_count": 264,
   "id": "reserved-familiar",
   "metadata": {},
   "outputs": [
    {
     "name": "stdout",
     "output_type": "stream",
     "text": [
      "Number of samples in train set: 1000\n",
      "Number of samples in test set: 250\n"
     ]
    }
   ],
   "source": [
    "# Create train/test split\n",
    "\n",
    "X_train, X_test, y_train, y_test = train_test_split(X, y, test_size=0.2, random_state=0)\n",
    "\n",
    "print('Number of samples in train set:', len(y_train))\n",
    "print('Number of samples in test set:', len(y_test))"
   ]
  },
  {
   "cell_type": "code",
   "execution_count": 265,
   "id": "proved-secret",
   "metadata": {},
   "outputs": [],
   "source": [
    "# Standardize features\n",
    "\n",
    "scaler = preprocessing.StandardScaler().fit(X_train)\n",
    "X_train = scaler.transform(X_train)\n",
    "X_test = scaler.transform(X_test)"
   ]
  },
  {
   "cell_type": "markdown",
   "id": "willing-colorado",
   "metadata": {},
   "source": [
    "## (e)"
   ]
  },
  {
   "cell_type": "code",
   "execution_count": 266,
   "id": "hazardous-advertising",
   "metadata": {},
   "outputs": [],
   "source": [
    "# Define compute_grad function\n",
    "\n",
    "def compute_grad(beta, X, y, lam):\n",
    "    n = len(y)\n",
    "    q_list = []\n",
    "    for i in range(n):\n",
    "        x_tb = np.dot(np.transpose(X[i]), beta)\n",
    "        q_list.append(math.exp(-y[i]*x_tb)/(1+math.exp(-y[i]*x_tb)))\n",
    "    Q = np.diag(np.array(q_list))\n",
    "    return -1/n*np.dot(np.dot(np.transpose(X), Q),y)+2*lam*beta"
   ]
  },
  {
   "cell_type": "markdown",
   "id": "interested-benjamin",
   "metadata": {},
   "source": [
    "## (f)"
   ]
  },
  {
   "cell_type": "code",
   "execution_count": 267,
   "id": "existing-gateway",
   "metadata": {},
   "outputs": [],
   "source": [
    "# Define objective function\n",
    "\n",
    "def obj_fun(beta, X, y, lam):\n",
    "    n = len(y)\n",
    "    loss_sum = 0\n",
    "    for i in range(n):\n",
    "        x_tb = np.dot(np.transpose(X[i]), beta)\n",
    "        loss_sum += math.log(1+math.exp(-y[i]*x_tb))\n",
    "    return loss_sum/n+lam*np.dot(np.transpose(beta), beta)"
   ]
  },
  {
   "cell_type": "code",
   "execution_count": 268,
   "id": "welsh-torture",
   "metadata": {},
   "outputs": [],
   "source": [
    "# Define backtracking function\n",
    "\n",
    "def backtracking(eta_init, decay_rate, prop_constant, beta, X, y, lam):\n",
    "    eta = eta_init\n",
    "    \n",
    "    def sufficient_decrease(eta):\n",
    "        grad = compute_grad(beta, X, y, lam)\n",
    "        return (obj_fun(beta-eta*grad, X, y, lam)-obj_fun(beta, X, y, lam)) <= \\\n",
    "                (prop_constant*eta*np.dot(np.transpose(grad), -grad))\n",
    "    \n",
    "    while not sufficient_decrease(eta):\n",
    "        eta *= decay_rate\n",
    "    \n",
    "    return eta"
   ]
  },
  {
   "cell_type": "markdown",
   "id": "behavioral-desire",
   "metadata": {},
   "source": [
    "## (g)"
   ]
  },
  {
   "cell_type": "code",
   "execution_count": 269,
   "id": "married-domain",
   "metadata": {},
   "outputs": [],
   "source": [
    "# Define gradient descent function with backtracking\n",
    "\n",
    "def grad_descent(beta_init, step_size, epsilon, X, y, lam, decay_rate, prop_constant):\n",
    "    iterates = []\n",
    "    beta = beta_init\n",
    "    grad = compute_grad(beta, X, y, lam)\n",
    "    while np.linalg.norm(grad) > epsilon:\n",
    "        step_size = backtracking(step_size, decay_rate, prop_constant, beta, X, y, lam)\n",
    "        new_beta = beta - step_size*compute_grad(beta, X, y, lam)\n",
    "        iterates.append(new_beta)\n",
    "        beta = new_beta\n",
    "        grad = compute_grad(beta, X, y, lam)\n",
    "    return iterates"
   ]
  },
  {
   "cell_type": "markdown",
   "id": "eleven-lincoln",
   "metadata": {},
   "source": [
    "## (h)"
   ]
  },
  {
   "cell_type": "code",
   "execution_count": 270,
   "id": "conditional-reunion",
   "metadata": {},
   "outputs": [],
   "source": [
    "# Define fast grad descent algorithm with backtracking\n",
    "\n",
    "def fast_grad_algo(step_size, epsilon, X, y, lam, decay_rate, prop_constant):\n",
    "    iterates = []\n",
    "    beta = np.zeros(X.shape[1])\n",
    "    theta = np.zeros(X.shape[1])\n",
    "    grad = compute_grad(beta, X, y, lam)\n",
    "    steps = 0\n",
    "    while np.linalg.norm(grad) > epsilon:\n",
    "        step_size = backtracking(step_size, decay_rate, prop_constant, beta, X, y, lam)\n",
    "        new_beta = theta - step_size*compute_grad(theta, X, y, lam)\n",
    "        theta = new_beta + steps/(steps+3)*(new_beta-beta)\n",
    "        iterates.append(new_beta)\n",
    "        beta = new_beta\n",
    "        grad = compute_grad(beta, X, y, lam)\n",
    "        steps += 1\n",
    "    return iterates"
   ]
  },
  {
   "cell_type": "markdown",
   "id": "optimum-trailer",
   "metadata": {},
   "source": [
    "## (i)"
   ]
  },
  {
   "cell_type": "code",
   "execution_count": 271,
   "id": "acceptable-malpractice",
   "metadata": {},
   "outputs": [],
   "source": [
    "# Specify hyper-parameters\n",
    "\n",
    "step_size_init = 0.1\n",
    "target_accuracy = 1*10**-5\n",
    "beta_init = np.zeros(X_train.shape[1])\n",
    "lam = 0.5\n",
    "decay_rate = 0.5\n",
    "prop_constant = 0.5"
   ]
  },
  {
   "cell_type": "code",
   "execution_count": 272,
   "id": "intellectual-matthew",
   "metadata": {},
   "outputs": [
    {
     "data": {
      "text/plain": [
       "<matplotlib.legend.Legend at 0x7f9c9f3d1990>"
      ]
     },
     "execution_count": 272,
     "metadata": {},
     "output_type": "execute_result"
    },
    {
     "data": {
      "image/png": "[encoded data removed]",
      "text/plain": [
       "<Figure size 864x576 with 1 Axes>"
      ]
     },
     "metadata": {
      "needs_background": "light"
     },
     "output_type": "display_data"
    }
   ],
   "source": [
    "# Perform gradient descent using standard methods + backtracking vs fast gradient descent with backtracking,\n",
    "# plot results\n",
    "\n",
    "grad_iterates = grad_descent(beta_init, step_size_init, target_accuracy, \\\n",
    "                             X_train, y_train, lam, decay_rate, prop_constant)\n",
    "\n",
    "fast_grad_iterates = fast_grad_algo(step_size_init, target_accuracy, X_train, y_train, lam, decay_rate, prop_constant)\n",
    "\n",
    "\n",
    "slow_points = []\n",
    "fast_points = []\n",
    "\n",
    "for i in range(len(grad_iterates)):\n",
    "    slow_points.append(obj_fun(grad_iterates[i], X_train, y_train, lam))\n",
    "\n",
    "for i in range(len(fast_grad_iterates)):\n",
    "    fast_points.append(obj_fun(fast_grad_iterates[i], X_train, y_train, lam))\n",
    "\n",
    "f = plt.figure(figsize = (12,8))\n",
    "plt.xlabel('Step Number ($t$)')\n",
    "plt.ylabel(r'Value of Objective Function $F(\\beta_t)$')\n",
    "plt.title(r'Value of $F(\\beta_t)$ vs $t$ ($\\lambda=0.5$)')\n",
    "plt.plot(slow_points)\n",
    "plt.plot(fast_points)\n",
    "plt.legend(['Standard Algorithm', 'Fast Algorithm'])"
   ]
  },
  {
   "cell_type": "code",
   "execution_count": 273,
   "id": "floating-alaska",
   "metadata": {},
   "outputs": [
    {
     "name": "stdout",
     "output_type": "stream",
     "text": [
      "Number of iterations required for gradient descent: 59\n",
      "Number of iterations required for fast gradient descent: 45\n"
     ]
    }
   ],
   "source": [
    "# Print number of iterations for each algorithm (for fun!)\n",
    "\n",
    "print('Number of iterations required for gradient descent:', len(grad_iterates))\n",
    "print('Number of iterations required for fast gradient descent:', len(fast_grad_iterates))"
   ]
  },
  {
   "cell_type": "markdown",
   "id": "listed-christopher",
   "metadata": {},
   "source": [
    "In the figure above we can see that the fast gradient descent algorithm approaches the minimum of the objective function much quicker than the standard gradient descent algorithm. It is interesting, however, that the fast gradient descent algorithm does not appear to be monotonically decreasing."
   ]
  },
  {
   "cell_type": "markdown",
   "id": "constitutional-fairy",
   "metadata": {},
   "source": [
    "## (j)"
   ]
  },
  {
   "cell_type": "code",
   "execution_count": 274,
   "id": "substantial-doctor",
   "metadata": {},
   "outputs": [],
   "source": [
    "# Define sk_learn's objective function\n",
    "\n",
    "def obj_fun_sk(beta, X, y, C):\n",
    "    n = len(y)\n",
    "    loss_sum = 0\n",
    "    for i in range(n):\n",
    "        x_tb = np.dot(np.transpose(X[i]), beta)\n",
    "        loss_sum += math.log(1+math.exp(-y[i]*x_tb))\n",
    "    return C*loss_sum+1/2*np.dot(np.transpose(beta), beta)"
   ]
  },
  {
   "cell_type": "code",
   "execution_count": 275,
   "id": "copyrighted-catering",
   "metadata": {},
   "outputs": [
    {
     "name": "stdout",
     "output_type": "stream",
     "text": [
      "Coefficients from Trevor's implementation:\n",
      " [-0.01412273 -0.01258201  0.00702339]\n",
      "\n",
      "Coefficients from sklearn's implementation:\n",
      " [-0.01412958 -0.01258723  0.00702674]\n"
     ]
    }
   ],
   "source": [
    "# Instantiate and train log model, print out comparison of coefficients\n",
    "\n",
    "log_model = LogisticRegression(tol=target_accuracy, C=1/len(y_train)).fit(X_train, y_train)\n",
    "\n",
    "print('Coefficients from Trevor\\'s implementation:\\n', fast_grad_iterates[-1])\n",
    "print('\\nCoefficients from sklearn\\'s implementation:\\n', log_model.coef_[0])"
   ]
  },
  {
   "cell_type": "code",
   "execution_count": 276,
   "id": "capable-hierarchy",
   "metadata": {},
   "outputs": [
    {
     "name": "stdout",
     "output_type": "stream",
     "text": [
      "Objective Function Value for Trevor's implementation:\n",
      " 0.6928938553336433\n",
      "\n",
      "Objective Function Value for sklearn's implementation:\n",
      " 0.6928938553675781\n"
     ]
    }
   ],
   "source": [
    "# Compare objective function's value\n",
    "\n",
    "print('Objective Function Value for Trevor\\'s implementation:\\n',\n",
    "      obj_fun(fast_grad_iterates[-1], X_train, y_train, lam))\n",
    "print('\\nObjective Function Value for sklearn\\'s implementation:\\n',\n",
    "      obj_fun_sk(log_model.coef_[0], X_train, y_train, 1/(1/2/lam*len(y_train))))"
   ]
  },
  {
   "cell_type": "markdown",
   "id": "greatest-satisfaction",
   "metadata": {},
   "source": [
    "As can be seen above, both the coefficients and the objective function's value at those coefficients are very close between the two implementations. This makes sense as the objective functions are the same (assuming I scaled correctly) and therefore both optimizations will produce the same result."
   ]
  },
  {
   "cell_type": "markdown",
   "id": "greater-shield",
   "metadata": {},
   "source": [
    "## (k)"
   ]
  },
  {
   "cell_type": "code",
   "execution_count": 277,
   "id": "intermediate-liverpool",
   "metadata": {},
   "outputs": [],
   "source": [
    "# Run stratified k fold cross validation on dataset over a large range of C values,\n",
    "# save optimal value for conversion into a lambda value\n",
    "\n",
    "cross_val_mod = LogisticRegressionCV(tol=target_accuracy, Cs=20).fit(X_train, y_train)\n",
    "\n",
    "optimal_C = cross_val_mod.C_[0]"
   ]
  },
  {
   "cell_type": "code",
   "execution_count": 278,
   "id": "valued-farmer",
   "metadata": {},
   "outputs": [
    {
     "name": "stdout",
     "output_type": "stream",
     "text": [
      "Optimal lambda: 12.742749857031335\n"
     ]
    }
   ],
   "source": [
    "# Convert optimal C into optimal lambda, print for fun!\n",
    "\n",
    "optimal_lambda = optimal_C*len(y_train)\n",
    "print('Optimal lambda:', optimal_lambda)"
   ]
  },
  {
   "cell_type": "code",
   "execution_count": 279,
   "id": "above-student",
   "metadata": {},
   "outputs": [
    {
     "data": {
      "text/plain": [
       "<matplotlib.legend.Legend at 0x7f9ca17fd710>"
      ]
     },
     "execution_count": 279,
     "metadata": {},
     "output_type": "execute_result"
    },
    {
     "data": {
      "image/png": "[encoded data removed]",
      "text/plain": [
       "<Figure size 864x576 with 1 Axes>"
      ]
     },
     "metadata": {
      "needs_background": "light"
     },
     "output_type": "display_data"
    }
   ],
   "source": [
    "# Perform gradient descent using standard methods + backtracking vs fast gradient descent with backtracking\n",
    "# using optimal lambda, plot results\n",
    "\n",
    "grad_iterates = grad_descent(beta_init, step_size_init, target_accuracy, \\\n",
    "                             X_train, y_train, optimal_lambda, decay_rate, prop_constant)\n",
    "\n",
    "fast_grad_iterates = fast_grad_algo(step_size_init, target_accuracy, \\\n",
    "                                    X_train, y_train, optimal_lambda, decay_rate, prop_constant)\n",
    "\n",
    "\n",
    "slow_points = []\n",
    "fast_points = []\n",
    "\n",
    "for i in range(len(grad_iterates)):\n",
    "    slow_points.append(obj_fun(grad_iterates[i], X_train, y_train, lam))\n",
    "\n",
    "for i in range(len(fast_grad_iterates)):\n",
    "    fast_points.append(obj_fun(fast_grad_iterates[i], X_train, y_train, lam))\n",
    "\n",
    "f = plt.figure(figsize = (12,8))\n",
    "plt.xlabel('Step Number ($t$)')\n",
    "plt.ylabel(r'Value of Objective Function $F(\\beta_t)$')\n",
    "plt.title(r'Value of $F(\\beta_t)$ vs $t$ ($\\lambda=0.5$)')\n",
    "plt.plot(slow_points)\n",
    "plt.plot(fast_points)\n",
    "plt.legend(['Standard Algorithm', 'Fast Algorithm'])"
   ]
  },
  {
   "cell_type": "code",
   "execution_count": 280,
   "id": "defined-tours",
   "metadata": {},
   "outputs": [],
   "source": [
    "# Compute accuracy on given coefficients, features, and labels \n",
    "\n",
    "def compute_accuracy(beta, X, y):\n",
    "    x_tb = x_tb = np.dot(X, beta)\n",
    "    probs_down = 1-1/(1+np.exp(-x_tb))\n",
    "    preds = [-1 if i > .5 else 1 for i in probs_down]\n",
    "    return sum(preds == y)/len(y)"
   ]
  },
  {
   "cell_type": "code",
   "execution_count": 281,
   "id": "retired-lightning",
   "metadata": {},
   "outputs": [
    {
     "data": {
      "text/plain": [
       "<matplotlib.legend.Legend at 0x7f9ca1a34390>"
      ]
     },
     "execution_count": 281,
     "metadata": {},
     "output_type": "execute_result"
    },
    {
     "data": {
      "image/png": "[encoded data removed]",
      "text/plain": [
       "<Figure size 864x576 with 1 Axes>"
      ]
     },
     "metadata": {
      "needs_background": "light"
     },
     "output_type": "display_data"
    }
   ],
   "source": [
    "# Calculate and plot training set misclassification error rate across the iterates \n",
    "# of each gradient descent algorithm\n",
    "\n",
    "\n",
    "slow_error_rate = []\n",
    "fast_error_rate = []\n",
    "\n",
    "for i in range(len(grad_iterates)):\n",
    "    slow_error_rate.append(1-compute_accuracy(grad_iterates[i], X_train, y_train))\n",
    "\n",
    "for i in range(len(fast_grad_iterates)):\n",
    "    fast_error_rate.append(1-compute_accuracy(fast_grad_iterates[i], X_train, y_train))\n",
    "\n",
    "f = plt.figure(figsize = (12,8))\n",
    "plt.xlabel('Step Number ($t$)')\n",
    "plt.ylabel('Misclassification Error Rate (training set)')\n",
    "plt.title(r'Misclassification Error Rate (training set) vs $t$')\n",
    "plt.plot(slow_error_rate)\n",
    "plt.plot(fast_error_rate)\n",
    "plt.legend(['Standard Algorithm', 'Fast Algorithm'])"
   ]
  },
  {
   "cell_type": "code",
   "execution_count": 282,
   "id": "competitive-world",
   "metadata": {},
   "outputs": [
    {
     "data": {
      "text/plain": [
       "<matplotlib.legend.Legend at 0x7f9c9ef9b210>"
      ]
     },
     "execution_count": 282,
     "metadata": {},
     "output_type": "execute_result"
    },
    {
     "data": {
      "image/png": "[encoded data removed]",
      "text/plain": [
       "<Figure size 864x576 with 1 Axes>"
      ]
     },
     "metadata": {
      "needs_background": "light"
     },
     "output_type": "display_data"
    }
   ],
   "source": [
    "# Calculate and plot test set misclassification error rate across the iterates \n",
    "# of each gradient descent algorithm\n",
    "\n",
    "slow_error_rate = []\n",
    "fast_error_rate = []\n",
    "\n",
    "for i in range(len(grad_iterates)):\n",
    "    slow_error_rate.append(1-compute_accuracy(grad_iterates[i], X_test, y_test))\n",
    "\n",
    "for i in range(len(fast_grad_iterates)):\n",
    "    fast_error_rate.append(1-compute_accuracy(fast_grad_iterates[i], X_test, y_test))\n",
    "\n",
    "f = plt.figure(figsize = (12,8))\n",
    "plt.xlabel('Step Number ($t$)')\n",
    "plt.ylabel('Misclassification Error Rate (test set)')\n",
    "plt.title(r'Misclassification Error Rate (test set) vs $t$')\n",
    "plt.plot(slow_error_rate)\n",
    "plt.plot(fast_error_rate)\n",
    "plt.legend(['Standard Algorithm', 'Fast Algorithm'])"
   ]
  },
  {
   "cell_type": "markdown",
   "id": "fifty-inquiry",
   "metadata": {},
   "source": [
    "As can be seen in the two plots above, our misclassification error rate across the iterates of both the standard gradient descent and the fast gradient descent have extremely low (computationally-speaking, 0) variance! At first, I found this alarming. However, going back to the objective function we were minimizing it's plain to see that the iterates were producing an incredibly small amount of change (on the order of 1e-6) to the objective function with each iteration. Because our objective function was close to being a flat function, our \"optimazation\" of $\\beta$ produced minimal change in the misclassification error of our model. "
   ]
  }
 ],
 "metadata": {
  "kernelspec": {
   "display_name": "Python [conda env:DATA558] *",
   "language": "python",
   "name": "conda-env-DATA558-py"
  },
  "language_info": {
   "codemirror_mode": {
    "name": "ipython",
    "version": 3
   },
   "file_extension": ".py",
   "mimetype": "text/x-python",
   "name": "python",
   "nbconvert_exporter": "python",
   "pygments_lexer": "ipython3",
   "version": "3.7.10"
  }
 },
 "nbformat": 4,
 "nbformat_minor": 5
}
