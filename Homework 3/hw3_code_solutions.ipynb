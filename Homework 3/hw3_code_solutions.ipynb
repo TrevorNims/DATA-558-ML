{
 "cells": [
  {
   "cell_type": "markdown",
   "metadata": {},
   "source": [
    "# <center>HW 3 Solutions</center>\n",
    "<center>DATA 558, Spring 2021</center>\n"
   ]
  },
  {
   "cell_type": "code",
   "execution_count": 1,
   "metadata": {
    "collapsed": true
   },
   "outputs": [],
   "source": [
    "import numpy as np\n",
    "import pandas as pd\n",
    "import scipy\n",
    "import matplotlib.pyplot as plt\n",
    "%matplotlib inline"
   ]
  },
  {
   "cell_type": "markdown",
   "metadata": {},
   "source": [
    "## Exercise 1\n",
    "\n",
    "    (a) As $\\lambda$ decreases from $\\lambda_{max}$ to 0, the misclassification error on the training set will:\n",
    "        - (ii) Steadily decrease.\n",
    "Performance on the training set is optimized in the zero-penalty case, as that corresponds to selecting the model that *best* explains the observed data. Increasing penalization results in decreasing goodness-of-fit on the training data. Thus the worst performance on the training set occurs at lambda_max, and the best occurs at lambda=0.\n",
    "        \n",
    "      \n",
    "      \n",
    "    (b) As $\\lambda$ decreases from $\\lambda_{max}$ to 0, the misclassification error on the test set will:\n",
    "        - (iv) Decrease, then increase.\n",
    "\n",
    "At high values of the penalty, the parameter estimate is so constrained that it is unlikely to be a good fit to either the train or test sets - in the extreme case, the parameter is essentially zero. On the other hand, when the penalty is close to zero there is barely any constraint on the variance of the estimated model, and overfitting is likely to occur. In between these two cases, we expect that there is some range of penalization for which the increase in bias is more than offset by the decrease in variance, with an overall favorable effect on the MSE of the estimated model."
   ]
  },
  {
   "cell_type": "markdown",
   "metadata": {},
   "source": [
    "## Exercise 2"
   ]
  },
  {
   "cell_type": "markdown",
   "metadata": {},
   "source": [
    "    (a)-(b): Gradient computations.\n",
    "    \n",
    "    \n",
    "\n",
    "- Assume that d=1 and n=1. The function $F$ writes simply as\n",
    "\\begin{equation}\n",
    "F(\\beta) = \\log(1+\\exp(-y x \\,\\beta) \\; + \\lambda \\beta^2 \\; .\n",
    "\\end{equation}\n",
    "Compute and write down the gradient $\\nabla F$ of $F$. \n",
    "\n",
    "__Solution:__ \n",
    "$$\n",
    "\\nabla F(\\beta) = -yx \\frac{\\exp(-yx\\beta)}{1+\\exp(-yx\\beta)} + 2\\lambda \\beta\n",
    "$$ "
   ]
  },
  {
   "cell_type": "markdown",
   "metadata": {},
   "source": [
    "- Assume now that  $d>1$ and $n>1$. Using the previous result and the linearity of differentiation, compute and write down the gradient $\\nabla F(\\beta)$ of $F$. \n",
    "\n",
    "__Solution:__\n",
    "\n",
    "$$\\nabla F = \\frac{1}{n}\\sum_{i=1}^n -y_i x_i \\frac{\\exp(-y_i x_i^T\\beta)}{1+\\exp(-y_i x_i^T\\beta)} + 2\\lambda \\beta.$$"
   ]
  },
  {
   "cell_type": "code",
   "execution_count": 2,
   "metadata": {
    "collapsed": true
   },
   "outputs": [],
   "source": [
    "from sklearn.model_selection import train_test_split\n",
    "from sklearn import preprocessing"
   ]
  },
  {
   "cell_type": "markdown",
   "metadata": {},
   "source": [
    "    (c)-(d) Load and process smarket dataset"
   ]
  },
  {
   "cell_type": "code",
   "execution_count": 3,
   "metadata": {},
   "outputs": [],
   "source": [
    "file = 'https://raw.githubusercontent.com/JWarmenhoven/ISLR-python/master/Notebooks/Data/Smarket.csv'\n",
    "smarket = pd.read_csv(file, sep=',', header=0, index_col=0)"
   ]
  },
  {
   "cell_type": "code",
   "execution_count": 4,
   "metadata": {},
   "outputs": [
    {
     "data": {
      "text/html": [
       "<div>\n",
       "<style scoped>\n",
       "    .dataframe tbody tr th:only-of-type {\n",
       "        vertical-align: middle;\n",
       "    }\n",
       "\n",
       "    .dataframe tbody tr th {\n",
       "        vertical-align: top;\n",
       "    }\n",
       "\n",
       "    .dataframe thead th {\n",
       "        text-align: right;\n",
       "    }\n",
       "</style>\n",
       "<table border=\"1\" class=\"dataframe\">\n",
       "  <thead>\n",
       "    <tr style=\"text-align: right;\">\n",
       "      <th></th>\n",
       "      <th>Year</th>\n",
       "      <th>Lag1</th>\n",
       "      <th>Lag2</th>\n",
       "      <th>Lag3</th>\n",
       "      <th>Lag4</th>\n",
       "      <th>Lag5</th>\n",
       "      <th>Volume</th>\n",
       "      <th>Today</th>\n",
       "      <th>Direction</th>\n",
       "    </tr>\n",
       "  </thead>\n",
       "  <tbody>\n",
       "    <tr>\n",
       "      <th>1</th>\n",
       "      <td>2001</td>\n",
       "      <td>0.381</td>\n",
       "      <td>-0.192</td>\n",
       "      <td>-2.624</td>\n",
       "      <td>-1.055</td>\n",
       "      <td>5.010</td>\n",
       "      <td>1.1913</td>\n",
       "      <td>0.959</td>\n",
       "      <td>Up</td>\n",
       "    </tr>\n",
       "    <tr>\n",
       "      <th>2</th>\n",
       "      <td>2001</td>\n",
       "      <td>0.959</td>\n",
       "      <td>0.381</td>\n",
       "      <td>-0.192</td>\n",
       "      <td>-2.624</td>\n",
       "      <td>-1.055</td>\n",
       "      <td>1.2965</td>\n",
       "      <td>1.032</td>\n",
       "      <td>Up</td>\n",
       "    </tr>\n",
       "    <tr>\n",
       "      <th>3</th>\n",
       "      <td>2001</td>\n",
       "      <td>1.032</td>\n",
       "      <td>0.959</td>\n",
       "      <td>0.381</td>\n",
       "      <td>-0.192</td>\n",
       "      <td>-2.624</td>\n",
       "      <td>1.4112</td>\n",
       "      <td>-0.623</td>\n",
       "      <td>Down</td>\n",
       "    </tr>\n",
       "    <tr>\n",
       "      <th>4</th>\n",
       "      <td>2001</td>\n",
       "      <td>-0.623</td>\n",
       "      <td>1.032</td>\n",
       "      <td>0.959</td>\n",
       "      <td>0.381</td>\n",
       "      <td>-0.192</td>\n",
       "      <td>1.2760</td>\n",
       "      <td>0.614</td>\n",
       "      <td>Up</td>\n",
       "    </tr>\n",
       "    <tr>\n",
       "      <th>5</th>\n",
       "      <td>2001</td>\n",
       "      <td>0.614</td>\n",
       "      <td>-0.623</td>\n",
       "      <td>1.032</td>\n",
       "      <td>0.959</td>\n",
       "      <td>0.381</td>\n",
       "      <td>1.2057</td>\n",
       "      <td>0.213</td>\n",
       "      <td>Up</td>\n",
       "    </tr>\n",
       "  </tbody>\n",
       "</table>\n",
       "</div>"
      ],
      "text/plain": [
       "   Year   Lag1   Lag2   Lag3   Lag4   Lag5  Volume  Today Direction\n",
       "1  2001  0.381 -0.192 -2.624 -1.055  5.010  1.1913  0.959        Up\n",
       "2  2001  0.959  0.381 -0.192 -2.624 -1.055  1.2965  1.032        Up\n",
       "3  2001  1.032  0.959  0.381 -0.192 -2.624  1.4112 -0.623      Down\n",
       "4  2001 -0.623  1.032  0.959  0.381 -0.192  1.2760  0.614        Up\n",
       "5  2001  0.614 -0.623  1.032  0.959  0.381  1.2057  0.213        Up"
      ]
     },
     "execution_count": 4,
     "metadata": {},
     "output_type": "execute_result"
    }
   ],
   "source": [
    "smarket.head()"
   ]
  },
  {
   "cell_type": "code",
   "execution_count": 5,
   "metadata": {
    "collapsed": true
   },
   "outputs": [],
   "source": [
    "X = smarket[['Lag1', 'Lag2', 'Volume']]\n",
    "y = np.array([1 if x=='Up' else -1 for x in smarket['Direction']])"
   ]
  },
  {
   "cell_type": "code",
   "execution_count": 6,
   "metadata": {},
   "outputs": [],
   "source": [
    "X_train, X_test, y_train, y_test = train_test_split(X, y, train_size = 0.8, random_state = 0)"
   ]
  },
  {
   "cell_type": "code",
   "execution_count": 7,
   "metadata": {
    "collapsed": true
   },
   "outputs": [],
   "source": [
    "scaler = preprocessing.StandardScaler().fit(X_train)\n",
    "X_train = scaler.transform(X_train)\n",
    "X_test = scaler.transform(X_test)"
   ]
  },
  {
   "cell_type": "code",
   "execution_count": 8,
   "metadata": {},
   "outputs": [
    {
     "data": {
      "text/plain": [
       "array([ -1.24344979e-17,   2.48689958e-17,   2.46913601e-16])"
      ]
     },
     "execution_count": 8,
     "metadata": {},
     "output_type": "execute_result"
    }
   ],
   "source": [
    "X_train.mean(axis=0)"
   ]
  },
  {
   "cell_type": "code",
   "execution_count": 9,
   "metadata": {},
   "outputs": [
    {
     "data": {
      "text/plain": [
       "array([ 1.,  1.,  1.])"
      ]
     },
     "execution_count": 9,
     "metadata": {},
     "output_type": "execute_result"
    }
   ],
   "source": [
    "X_train.std(axis=0)"
   ]
  },
  {
   "cell_type": "markdown",
   "metadata": {},
   "source": [
    "    (e). Write computegrad function (plus logistic regression objective)"
   ]
  },
  {
   "cell_type": "markdown",
   "metadata": {},
   "source": [
    "Recall the penalized logistic regression objective is:\n",
    "\n",
    "$$\n",
    "\\ell(\\beta) = \\frac{1}{n} \\sum_{i=1}^n \\log(1 + \\exp(-y_i x_i^T\\beta)) + \\lambda ||\\beta||_2^2\n",
    "$$"
   ]
  },
  {
   "cell_type": "code",
   "execution_count": 10,
   "metadata": {
    "collapsed": true
   },
   "outputs": [],
   "source": [
    "def objective(beta, lam, X=X_train, y=y_train):\n",
    "    n = len(y)\n",
    "    return (1/n)*np.sum(np.log(1 + np.exp(-y*X.dot(beta)))) + lam*np.linalg.norm(beta)**2"
   ]
  },
  {
   "cell_type": "markdown",
   "metadata": {},
   "source": [
    "and the gradient is:\n",
    "\n",
    "$$\n",
    "\\nabla_\\beta \\ell = -\\frac{1}{n} \\sum_{i=1}^n -y_i x_i \\frac{\\exp(-y_i x_i^T\\beta)}{1 + \\exp(-y_i x_i^T\\beta)} + 2 \\lambda \\beta\n",
    "$$\n",
    "\n",
    "which can be written in matrix form as \n",
    "\n",
    "$$\n",
    "\\nabla_\\beta \\ell = -\\frac{1}{n} X^T Q Y\n",
    "$$\n",
    "\n",
    "with \n",
    "$$\n",
    "Q = \\text{diag}\\left(\\frac{\\exp(-y_i x_i^T\\beta)}{1 + \\exp(-y_i x_i^T\\beta)}\\right)\n",
    "$$"
   ]
  },
  {
   "cell_type": "code",
   "execution_count": 11,
   "metadata": {
    "collapsed": true
   },
   "outputs": [],
   "source": [
    "# sum version\n",
    "def computegrad_v1(beta, lam, X=X_train, y=y_train):\n",
    "    yx = y[:, np.newaxis]*X\n",
    "    denom = 1+np.exp(-yx.dot(beta))\n",
    "    grad = 1/len(y)*np.sum(-yx*np.exp(-yx.dot(beta[:, np.newaxis]))/denom[:, np.newaxis], axis=0) + 2*lam*beta\n",
    "    return grad"
   ]
  },
  {
   "cell_type": "code",
   "execution_count": 12,
   "metadata": {
    "collapsed": true
   },
   "outputs": [],
   "source": [
    "# matrix version\n",
    "def Q_mat(X, y, beta):\n",
    "    yx = y[:, np.newaxis]*X\n",
    "    Qvec_denom = 1+np.exp(-yx.dot(beta))\n",
    "    Qvec_num = np.exp(-yx.dot(beta))\n",
    "    Qvec = Qvec_num / Qvec_denom\n",
    "    return np.diag(Qvec)\n",
    "\n",
    "def computegrad(beta, lam, X=X_train, y=y_train):\n",
    "    n = len(y)\n",
    "    Q = Q_mat(X, y, beta)\n",
    "    return (-1/n)*np.dot(X.T, np.dot(Q, y)) + 2*lam*beta"
   ]
  },
  {
   "cell_type": "code",
   "execution_count": 13,
   "metadata": {},
   "outputs": [
    {
     "data": {
      "text/plain": [
       "array([ 130.43910811, -189.5750977 ,  -91.20115302])"
      ]
     },
     "execution_count": 13,
     "metadata": {},
     "output_type": "execute_result"
    }
   ],
   "source": [
    "# implementations are equivalent\n",
    "d = X_train.shape[1]\n",
    "n = X_train.shape[0]\n",
    "beta = np.random.normal(size=d)\n",
    "\n",
    "computegrad_v1(beta, 100.0)"
   ]
  },
  {
   "cell_type": "code",
   "execution_count": 14,
   "metadata": {},
   "outputs": [
    {
     "data": {
      "text/plain": [
       "array([ 130.43910811, -189.5750977 ,  -91.20115302])"
      ]
     },
     "execution_count": 14,
     "metadata": {},
     "output_type": "execute_result"
    }
   ],
   "source": [
    "computegrad(beta, 100.0)"
   ]
  },
  {
   "cell_type": "markdown",
   "metadata": {},
   "source": [
    "    (f) Write backtracking method"
   ]
  },
  {
   "cell_type": "code",
   "execution_count": 15,
   "metadata": {},
   "outputs": [],
   "source": [
    "def backtracking(beta, lam, eta=1, alpha=0.5, betaparam=0.8, maxiter=100, X=X_train, y=y_train):\n",
    "    grad_beta = computegrad(beta, lam, X=X, y=y) # initialize\n",
    "    norm_grad_beta = np.linalg.norm(grad_beta)\n",
    "    found_eta = 0\n",
    "    num_iters = 0\n",
    "    \n",
    "    while found_eta == 0 and num_iters < maxiter: # loop until we find a good step size (or take too long)\n",
    "        \n",
    "        # take a step and evaluate the objective\n",
    "        obj_step = objective(beta - eta*grad_beta, lam, X=X, y=y)\n",
    "        \n",
    "        # RHS of sufficient decrease criterion\n",
    "        decrease_thresh = objective(beta, lam, X=X, y=y) - alpha*eta*norm_grad_beta**2\n",
    "        \n",
    "        if obj_step < decrease_thresh: # check criterion\n",
    "            found_eta = 1 # if satisfied, return step size\n",
    "        elif num_iters == maxiter:\n",
    "            raise('Max number of iterations of backtracking line search reached')\n",
    "        else:\n",
    "            eta*= betaparam # if not (and below max_iter), decrease step size\n",
    "            num_iters += 1\n",
    "            \n",
    "    return eta"
   ]
  },
  {
   "cell_type": "markdown",
   "metadata": {},
   "source": [
    "    (g) Write gradient descent with backtracking"
   ]
  },
  {
   "cell_type": "code",
   "execution_count": 16,
   "metadata": {},
   "outputs": [],
   "source": [
    "def graddescent(beta_init, lam, eta_init, X=X_train, y=y_train, eps=5.1**-3):\n",
    "    beta = beta_init # initialize\n",
    "    grad_beta = computegrad(beta, lam, X=X, y=y)\n",
    "    beta_vals = beta\n",
    "    num_iters = 0\n",
    "    \n",
    "    while np.linalg.norm(grad_beta) > eps: # use gradient norm stop criterion\n",
    "        eta = backtracking(beta, lam, eta=eta_init, X=X, y=y) # find step size\n",
    "        beta = beta - eta*grad_beta # take a step\n",
    "        beta_vals = np.vstack((beta_vals, beta)) \n",
    "        grad_beta = computegrad(beta, lam, X=X, y=y)\n",
    "        num_iters += 1\n",
    "        \n",
    "    return beta_vals"
   ]
  },
  {
   "cell_type": "markdown",
   "metadata": {},
   "source": [
    "    (h) Write accelerated gradient descent (i.e. fast gradient algorithm)"
   ]
  },
  {
   "cell_type": "code",
   "execution_count": 17,
   "metadata": {},
   "outputs": [],
   "source": [
    "def fastgradalgo(beta_init, theta_init, lam, eta, X=X_train, y=y_train, eps=5.1**-3):\n",
    "    beta = beta_init # initialize beta and theta\n",
    "    theta = theta_init\n",
    "    grad_theta = computegrad(theta, lam, X=X, y=y)\n",
    "    grad_beta = computegrad(beta, lam, X=X, y=y)\n",
    "    beta_vals = beta\n",
    "    theta_vals = theta\n",
    "    num_iters = 0\n",
    "    \n",
    "    while np.linalg.norm(grad_beta) > eps: # use gradient norm stop criterion\n",
    "        \n",
    "        eta = backtracking(theta, lam, eta=eta, X=X, y=y) # first find step size\n",
    "        \n",
    "        beta_new = theta - eta*grad_theta # step in beta, from previous theta\n",
    "        theta = beta_new + num_iters/(num_iters+3)*(beta_new-beta) # extrapolation step in theta\n",
    "        \n",
    "        beta_vals = np.vstack((beta_vals, beta)) # update each\n",
    "        theta_vals = np.vstack((theta_vals, theta))\n",
    "        \n",
    "        grad_theta = computegrad(theta, lam, X=X, y=y) # get gradient at new points\n",
    "        grad_beta = computegrad(beta, lam, X=X, y=y)\n",
    "        beta = beta_new\n",
    "        num_iters += 1\n",
    "        \n",
    "    return beta_vals"
   ]
  },
  {
   "cell_type": "markdown",
   "metadata": {},
   "source": [
    "    (i) Run both gradient descent algs"
   ]
  },
  {
   "cell_type": "code",
   "execution_count": 42,
   "metadata": {},
   "outputs": [],
   "source": [
    "lam = 0.5\n",
    "\n",
    "d = X.shape[1]\n",
    "beta_init = np.zeros(d)\n",
    "theta_init = np.zeros(d)\n",
    "\n",
    "eta_init = 0.1\n",
    "maxiter = 1000\n",
    "\n",
    "betas_grad = graddescent(beta_init, lam, eta_init, eps=1e-5)\n",
    "betas_fastgrad = fastgradalgo(beta_init, theta_init, lam, eta_init, eps=1e-5)"
   ]
  },
  {
   "cell_type": "code",
   "execution_count": 43,
   "metadata": {},
   "outputs": [],
   "source": [
    "GD_obj_trace = [objective(x, lam) for x in betas_grad]\n",
    "AGD_obj_trace = [objective(x, lam) for x in betas_fastgrad]"
   ]
  },
  {
   "cell_type": "code",
   "execution_count": 44,
   "metadata": {},
   "outputs": [
    {
     "data": {
      "image/png": "[encoded data removed]",
      "text/plain": [
       "<matplotlib.figure.Figure at 0x117cbc518>"
      ]
     },
     "metadata": {},
     "output_type": "display_data"
    }
   ],
   "source": [
    "plt.plot(GD_obj_trace, label='GD')\n",
    "plt.plot(AGD_obj_trace, label='Fast GD')\n",
    "plt.legend()\n",
    "plt.show()"
   ]
  },
  {
   "cell_type": "code",
   "execution_count": 45,
   "metadata": {},
   "outputs": [
    {
     "data": {
      "text/plain": [
       "0.69289385537089065"
      ]
     },
     "execution_count": 45,
     "metadata": {},
     "output_type": "execute_result"
    }
   ],
   "source": [
    "GD_obj_trace[-1]"
   ]
  },
  {
   "cell_type": "code",
   "execution_count": 46,
   "metadata": {},
   "outputs": [
    {
     "data": {
      "text/plain": [
       "0.69289385533364245"
      ]
     },
     "execution_count": 46,
     "metadata": {},
     "output_type": "execute_result"
    }
   ],
   "source": [
    "AGD_obj_trace[-1]"
   ]
  },
  {
   "cell_type": "markdown",
   "metadata": {},
   "source": [
    "    (j) Compare to sklearn"
   ]
  },
  {
   "cell_type": "code",
   "execution_count": 23,
   "metadata": {},
   "outputs": [],
   "source": [
    "from sklearn.linear_model import LogisticRegression, LogisticRegressionCV\n",
    "\n",
    "n = X_train.shape[0]\n",
    "skcoef = LogisticRegression(C = 1/(2*n*lam)).fit(X_train, y_train).coef_"
   ]
  },
  {
   "cell_type": "code",
   "execution_count": 24,
   "metadata": {},
   "outputs": [
    {
     "name": "stdout",
     "output_type": "stream",
     "text": [
      "sklearn params: [[-0.01412447 -0.01258223  0.00702304]]\n",
      "GD params: [-0.01411871 -0.01257774  0.00702096]\n",
      "FGD params: [-0.01412273 -0.01258201  0.00702339]\n"
     ]
    }
   ],
   "source": [
    "# compare parameters\n",
    "print('sklearn params: {}'.format(skcoef))\n",
    "print('GD params: {}'.format(betas_grad[-1]))\n",
    "print('FGD params: {}'.format(betas_fastgrad[-1]))"
   ]
  },
  {
   "cell_type": "code",
   "execution_count": 25,
   "metadata": {},
   "outputs": [
    {
     "name": "stdout",
     "output_type": "stream",
     "text": [
      "sklearn objective: 0.692894\n",
      "GD objective: 0.692894\n",
      "FGD objective: 0.692894\n"
     ]
    }
   ],
   "source": [
    "# compare objectives\n",
    "print('sklearn objective: {:.6f}'.format(objective(skcoef[0,:], lam)))\n",
    "print('GD objective: {:.6f}'.format(objective(betas_grad[-1], lam)))\n",
    "print('FGD objective: {:.6f}'.format(objective(betas_fastgrad[-1], lam)))"
   ]
  },
  {
   "cell_type": "markdown",
   "metadata": {
    "collapsed": true
   },
   "source": [
    "    (k) Find best $\\lambda$ with LogisticRegressionCV()"
   ]
  },
  {
   "cell_type": "code",
   "execution_count": 26,
   "metadata": {},
   "outputs": [],
   "source": [
    "cvres = LogisticRegressionCV(Cs=30).fit(X_train,y_train)"
   ]
  },
  {
   "cell_type": "code",
   "execution_count": 27,
   "metadata": {},
   "outputs": [
    {
     "data": {
      "text/plain": [
       "1.3738237958832638"
      ]
     },
     "execution_count": 27,
     "metadata": {},
     "output_type": "execute_result"
    }
   ],
   "source": [
    "C = cvres.C_[0]\n",
    "C"
   ]
  },
  {
   "cell_type": "code",
   "execution_count": 28,
   "metadata": {},
   "outputs": [
    {
     "data": {
      "text/plain": [
       "0.0003639476921991573"
      ]
     },
     "execution_count": 28,
     "metadata": {},
     "output_type": "execute_result"
    }
   ],
   "source": [
    "lam = 1/(2*n*C) # convert to our lambda\n",
    "lam"
   ]
  },
  {
   "cell_type": "code",
   "execution_count": 29,
   "metadata": {
    "collapsed": true
   },
   "outputs": [],
   "source": [
    "d = X.shape[1]\n",
    "beta_init = np.zeros(d)\n",
    "theta_init = np.zeros(d)\n",
    "\n",
    "eta_init = 0.1\n",
    "maxiter = 1000\n",
    "\n",
    "betas_grad = graddescent(beta_init, lam, eta_init, eps=1e-5)\n",
    "betas_fastgrad = fastgradalgo(beta_init, theta_init, lam, eta_init, eps=1e-5)"
   ]
  },
  {
   "cell_type": "code",
   "execution_count": 30,
   "metadata": {
    "collapsed": true
   },
   "outputs": [],
   "source": [
    "GD_obj_trace = [objective(x, lam) for x in betas_grad]\n",
    "AGD_obj_trace = [objective(x, lam) for x in betas_fastgrad]"
   ]
  },
  {
   "cell_type": "code",
   "execution_count": 31,
   "metadata": {},
   "outputs": [
    {
     "data": {
      "image/png": "[encoded data removed]",
      "text/plain": [
       "<matplotlib.figure.Figure at 0x1174fb0b8>"
      ]
     },
     "metadata": {},
     "output_type": "display_data"
    }
   ],
   "source": [
    "plt.plot(GD_obj_trace, label='GD')\n",
    "plt.plot(AGD_obj_trace, label='Fast GD')\n",
    "plt.legend()\n",
    "plt.show()"
   ]
  },
  {
   "cell_type": "code",
   "execution_count": 32,
   "metadata": {
    "collapsed": true
   },
   "outputs": [],
   "source": [
    "def get_model_preds(X, betas):\n",
    "    xtb = np.dot(X, betas)\n",
    "    probs = 1 / (1+np.exp(-xtb))\n",
    "    preds = (probs > 0.5)*2-1 # convert preds to +/- 1\n",
    "    return probs, preds\n",
    "\n",
    "def acc(preds, truth):\n",
    "    return np.mean(preds==truth)"
   ]
  },
  {
   "cell_type": "code",
   "execution_count": 33,
   "metadata": {
    "collapsed": true
   },
   "outputs": [],
   "source": [
    "lr = LogisticRegression(C = 1/(2*n*lam), fit_intercept=False).fit(X_train, y_train)"
   ]
  },
  {
   "cell_type": "code",
   "execution_count": 34,
   "metadata": {},
   "outputs": [
    {
     "data": {
      "text/plain": [
       "1.0"
      ]
     },
     "execution_count": 34,
     "metadata": {},
     "output_type": "execute_result"
    }
   ],
   "source": [
    "prob, pred = get_model_preds(X_train, lr.coef_[0,:])\n",
    "lrpred = lr.predict(X_train)\n",
    "np.mean(pred==lrpred) # compare our prediction method to scikit-learn "
   ]
  },
  {
   "cell_type": "code",
   "execution_count": 48,
   "metadata": {},
   "outputs": [],
   "source": [
    "gd_acc = [acc(get_model_preds(X_train, b)[1], y_train) for b in betas_grad]\n",
    "agd_acc = [acc(get_model_preds(X_train, b)[1], y_train) for b in betas_fastgrad]"
   ]
  },
  {
   "cell_type": "code",
   "execution_count": 49,
   "metadata": {},
   "outputs": [
    {
     "data": {
      "image/png": "[encoded data removed]",
      "text/plain": [
       "<matplotlib.figure.Figure at 0x117f0d208>"
      ]
     },
     "metadata": {},
     "output_type": "display_data"
    }
   ],
   "source": [
    "plt.plot(gd_acc, label='GD') \n",
    "plt.plot(agd_acc, label='Fast GD')\n",
    "plt.legend()\n",
    "plt.show()"
   ]
  },
  {
   "cell_type": "code",
   "execution_count": null,
   "metadata": {
    "collapsed": true
   },
   "outputs": [],
   "source": [
    "# NOTE: for misclassification error, plot 1-(accuracy)"
   ]
  },
  {
   "cell_type": "code",
   "execution_count": 37,
   "metadata": {
    "collapsed": true
   },
   "outputs": [],
   "source": [
    "# why is this so bad? 2 reasons: \n",
    "# (1) we didn't fit an intercept, and that has a negative impact on prediction quality\n",
    "# ---  could fix this by amending the objective and gradient above (but don't penalize the intercept!)\n",
    "# (2) there's basically no signal in the market history alone regarding its future movement \n",
    "# ---  see definition of \"martingale\""
   ]
  },
  {
   "cell_type": "code",
   "execution_count": null,
   "metadata": {
    "collapsed": true
   },
   "outputs": [],
   "source": []
  }
 ],
 "metadata": {
  "kernelspec": {
   "display_name": "Python 3",
   "language": "python",
   "name": "python3"
  },
  "language_info": {
   "codemirror_mode": {
    "name": "ipython",
    "version": 3
   },
   "file_extension": ".py",
   "mimetype": "text/x-python",
   "name": "python",
   "nbconvert_exporter": "python",
   "pygments_lexer": "ipython3",
   "version": "3.7.10"
  }
 },
 "nbformat": 4,
 "nbformat_minor": 1
}
