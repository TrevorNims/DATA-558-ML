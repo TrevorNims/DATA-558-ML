{
 "cells": [
  {
   "cell_type": "code",
   "execution_count": 15,
   "id": "confirmed-glossary",
   "metadata": {},
   "outputs": [],
   "source": [
    "import pandas as pd\n",
    "import numpy as np\n",
    "import matplotlib.pyplot as plt\n",
    "\n",
    "from sklearn.model_selection import train_test_split\n",
    "from sklearn.linear_model import Ridge"
   ]
  },
  {
   "cell_type": "code",
   "execution_count": 16,
   "id": "laughing-system",
   "metadata": {},
   "outputs": [],
   "source": [
    "# Load data into dataframe and remove rows containing NA values\n",
    "\n",
    "file = 'https://raw.githubusercontent.com/mwaskom/seaborn-data/master/penguins.csv'\n",
    "penguins = pd.read_csv(file, sep=',', header=0)\n",
    "\n",
    "penguins_clean = penguins.dropna()"
   ]
  },
  {
   "cell_type": "code",
   "execution_count": 17,
   "id": "everyday-hello",
   "metadata": {},
   "outputs": [
    {
     "data": {
      "text/html": [
       "<div>\n",
       "<style scoped>\n",
       "    .dataframe tbody tr th:only-of-type {\n",
       "        vertical-align: middle;\n",
       "    }\n",
       "\n",
       "    .dataframe tbody tr th {\n",
       "        vertical-align: top;\n",
       "    }\n",
       "\n",
       "    .dataframe thead th {\n",
       "        text-align: right;\n",
       "    }\n",
       "</style>\n",
       "<table border=\"1\" class=\"dataframe\">\n",
       "  <thead>\n",
       "    <tr style=\"text-align: right;\">\n",
       "      <th></th>\n",
       "      <th>species</th>\n",
       "      <th>island</th>\n",
       "      <th>bill_length_mm</th>\n",
       "      <th>bill_depth_mm</th>\n",
       "      <th>flipper_length_mm</th>\n",
       "      <th>body_mass_g</th>\n",
       "      <th>sex</th>\n",
       "    </tr>\n",
       "  </thead>\n",
       "  <tbody>\n",
       "    <tr>\n",
       "      <th>0</th>\n",
       "      <td>Adelie</td>\n",
       "      <td>Torgersen</td>\n",
       "      <td>39.1</td>\n",
       "      <td>18.7</td>\n",
       "      <td>181.0</td>\n",
       "      <td>3750.0</td>\n",
       "      <td>MALE</td>\n",
       "    </tr>\n",
       "    <tr>\n",
       "      <th>1</th>\n",
       "      <td>Adelie</td>\n",
       "      <td>Torgersen</td>\n",
       "      <td>39.5</td>\n",
       "      <td>17.4</td>\n",
       "      <td>186.0</td>\n",
       "      <td>3800.0</td>\n",
       "      <td>FEMALE</td>\n",
       "    </tr>\n",
       "    <tr>\n",
       "      <th>2</th>\n",
       "      <td>Adelie</td>\n",
       "      <td>Torgersen</td>\n",
       "      <td>40.3</td>\n",
       "      <td>18.0</td>\n",
       "      <td>195.0</td>\n",
       "      <td>3250.0</td>\n",
       "      <td>FEMALE</td>\n",
       "    </tr>\n",
       "    <tr>\n",
       "      <th>4</th>\n",
       "      <td>Adelie</td>\n",
       "      <td>Torgersen</td>\n",
       "      <td>36.7</td>\n",
       "      <td>19.3</td>\n",
       "      <td>193.0</td>\n",
       "      <td>3450.0</td>\n",
       "      <td>FEMALE</td>\n",
       "    </tr>\n",
       "    <tr>\n",
       "      <th>5</th>\n",
       "      <td>Adelie</td>\n",
       "      <td>Torgersen</td>\n",
       "      <td>39.3</td>\n",
       "      <td>20.6</td>\n",
       "      <td>190.0</td>\n",
       "      <td>3650.0</td>\n",
       "      <td>MALE</td>\n",
       "    </tr>\n",
       "  </tbody>\n",
       "</table>\n",
       "</div>"
      ],
      "text/plain": [
       "  species     island  bill_length_mm  bill_depth_mm  flipper_length_mm  \\\n",
       "0  Adelie  Torgersen            39.1           18.7              181.0   \n",
       "1  Adelie  Torgersen            39.5           17.4              186.0   \n",
       "2  Adelie  Torgersen            40.3           18.0              195.0   \n",
       "4  Adelie  Torgersen            36.7           19.3              193.0   \n",
       "5  Adelie  Torgersen            39.3           20.6              190.0   \n",
       "\n",
       "   body_mass_g     sex  \n",
       "0       3750.0    MALE  \n",
       "1       3800.0  FEMALE  \n",
       "2       3250.0  FEMALE  \n",
       "4       3450.0  FEMALE  \n",
       "5       3650.0    MALE  "
      ]
     },
     "execution_count": 17,
     "metadata": {},
     "output_type": "execute_result"
    }
   ],
   "source": [
    "# Check out the head of the dataframe\n",
    "\n",
    "penguins_clean.head()"
   ]
  },
  {
   "cell_type": "code",
   "execution_count": 18,
   "id": "different-greensboro",
   "metadata": {},
   "outputs": [
    {
     "name": "stdout",
     "output_type": "stream",
     "text": [
      "X has shape: (333, 3)\n",
      "y has shape: (333,)\n"
     ]
    }
   ],
   "source": [
    "# Define features (X) and target (Y), print dimensions\n",
    "\n",
    "X = penguins_clean[['bill_length_mm', 'bill_depth_mm', 'flipper_length_mm']]\n",
    "y = penguins_clean['body_mass_g']\n",
    "\n",
    "print('X has shape:', X.shape)\n",
    "print('y has shape:', y.shape)"
   ]
  },
  {
   "cell_type": "code",
   "execution_count": 19,
   "id": "excess-double",
   "metadata": {},
   "outputs": [],
   "source": [
    "# Split features and targets data into train and test sets at an 80/20 split\n",
    "\n",
    "X_train, X_test, y_train, y_test = train_test_split(\n",
    "    X, y, test_size=.2)"
   ]
  },
  {
   "cell_type": "code",
   "execution_count": 20,
   "id": "august-ozone",
   "metadata": {},
   "outputs": [],
   "source": [
    "# Instantiate and train ridge regression model with a lamba of 1.0\n",
    "\n",
    "model = Ridge(alpha=1.0).fit(X_train, y_train)"
   ]
  },
  {
   "cell_type": "code",
   "execution_count": 21,
   "id": "concerned-forty",
   "metadata": {},
   "outputs": [],
   "source": [
    "# Defines the mean squared error function\n",
    "\n",
    "def mse(y_pred, y_actual):\n",
    "    n = len(y_actual)\n",
    "    return 1/n*sum((y_pred-y_actual)**2)"
   ]
  },
  {
   "cell_type": "code",
   "execution_count": 23,
   "id": "systematic-virtue",
   "metadata": {},
   "outputs": [
    {
     "name": "stdout",
     "output_type": "stream",
     "text": [
      "Mean Squared Error on training data for initial model: 150302.8704551265\n"
     ]
    }
   ],
   "source": [
    "# Print mean standard error on training data for our model \n",
    "\n",
    "print('Mean Squared Error on training data for initial model:', mse(model.predict(X_train), y_train))"
   ]
  },
  {
   "cell_type": "code",
   "execution_count": 24,
   "id": "nominated-translator",
   "metadata": {},
   "outputs": [],
   "source": [
    "# Define five by two validation frunction\n",
    "\n",
    "def FiveByTwo_Validation(train_data, train_targets, lam_vals):\n",
    "    n = train_data.shape[0]\n",
    "    res = np.zeros((10, len(lam_vals)))\n",
    "    for j, lam in enumerate(lam_vals):\n",
    "        for i in range(5):\n",
    "\n",
    "            # shuffle data\n",
    "            shuffle_ix = np.random.choice(n, size=n, replace=False)\n",
    "            shuffled = train_data.iloc[shuffle_ix, :]\n",
    "            tgt_shuffled = train_targets.iloc[shuffle_ix]\n",
    "\n",
    "            # split evenly into train / valid\n",
    "            train = shuffled.iloc[:int(np.floor(n/2)), :]\n",
    "            ttgt = tgt_shuffled[:int(np.floor(n/2))]\n",
    "            valid = shuffled.iloc[int(np.floor(n/2)):, :]\n",
    "            vtgt = tgt_shuffled[int(np.floor(n/2)):]\n",
    "\n",
    "            # fit model on train\n",
    "            model = Ridge(alpha=lam).fit(train, ttgt)\n",
    "            \n",
    "            # predict on valid\n",
    "            preds = model.predict(valid)\n",
    "\n",
    "            # compute error\n",
    "            res[2*i, j] = mse(preds, vtgt)\n",
    "            \n",
    "            # now swap: train on \"validation\" set and predict on \"train\" set\n",
    "            model_swap = Ridge(alpha=lam).fit(valid, vtgt)\n",
    "            preds_swap = model_swap.predict(train)\n",
    "            res[2*i+1, j] = mse(preds_swap, ttgt)\n",
    "        \n",
    "    return res"
   ]
  },
  {
   "cell_type": "code",
   "execution_count": 25,
   "id": "ceramic-increase",
   "metadata": {},
   "outputs": [],
   "source": [
    "# Calculate the five by two validation scores for a range of lamba values\n",
    "\n",
    "lam_vals = np.logspace(-2,4,19)\n",
    "validation_results = FiveByTwo_Validation(X_train, y_train, lam_vals)"
   ]
  },
  {
   "cell_type": "code",
   "execution_count": 26,
   "id": "center-plumbing",
   "metadata": {},
   "outputs": [
    {
     "data": {
      "image/png": "[encoded data removed]",
      "text/plain": [
       "<Figure size 432x288 with 1 Axes>"
      ]
     },
     "metadata": {
      "needs_background": "light"
     },
     "output_type": "display_data"
    }
   ],
   "source": [
    "# Plot results\n",
    "\n",
    "plt.errorbar(np.log(lam_vals), validation_results.mean(axis=0), \n",
    "             validation_results.std(axis=0)/np.sqrt(validation_results.shape[0]))\n",
    "plt.xlim([np.log(lam_vals[0])-.5, np.log(lam_vals[-1])+.5])\n",
    "plt.xlabel('Log of Lambda Value')\n",
    "plt.ylabel('Validation Mean Squared Error')\n",
    "plt.show()"
   ]
  },
  {
   "cell_type": "code",
   "execution_count": 27,
   "id": "owned-labor",
   "metadata": {},
   "outputs": [
    {
     "name": "stdout",
     "output_type": "stream",
     "text": [
      "Best choice of lambda: 10.0\n"
     ]
    }
   ],
   "source": [
    "# Select best choice of lambda and print\n",
    "\n",
    "best_lam_ix = np.argmin(np.mean(validation_results, axis=0))\n",
    "best_lam = lam_vals[best_lam_ix]\n",
    "\n",
    "print('Best choice of lambda:', best_lam)"
   ]
  },
  {
   "cell_type": "code",
   "execution_count": 28,
   "id": "capital-avatar",
   "metadata": {},
   "outputs": [],
   "source": [
    "# Instantiate and train ridge regression model with our optimal choice of lambda\n",
    "\n",
    "best_model = Ridge(alpha=best_lam).fit(X_train, y_train)"
   ]
  },
  {
   "cell_type": "code",
   "execution_count": 29,
   "id": "occasional-breeding",
   "metadata": {},
   "outputs": [
    {
     "name": "stdout",
     "output_type": "stream",
     "text": [
      "Mean Squared Error on test data for optimal model: 165145.3167065845\n"
     ]
    }
   ],
   "source": [
    "# Print mean standard error on test data for our optimal model\n",
    "\n",
    "print('Mean Squared Error on test data for optimal model:', mse(best_model.predict(X_test), y_test))"
   ]
  }
 ],
 "metadata": {
  "kernelspec": {
   "display_name": "Python [conda env:DATA558] *",
   "language": "python",
   "name": "conda-env-DATA558-py"
  },
  "language_info": {
   "codemirror_mode": {
    "name": "ipython",
    "version": 3
   },
   "file_extension": ".py",
   "mimetype": "text/x-python",
   "name": "python",
   "nbconvert_exporter": "python",
   "pygments_lexer": "ipython3",
   "version": "3.7.10"
  }
 },
 "nbformat": 4,
 "nbformat_minor": 5
}
